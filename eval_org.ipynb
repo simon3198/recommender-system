{
 "cells": [
  {
   "cell_type": "code",
   "execution_count": 1,
   "metadata": {},
   "outputs": [],
   "source": [
    "import pandas as pd\n",
    "import numpy as np"
   ]
  },
  {
   "cell_type": "code",
   "execution_count": 2,
   "metadata": {},
   "outputs": [],
   "source": [
    "metrix_list = ['views','comments','likes']\n",
    "metric_list = ['rmse','r2','mae']\n",
    "model_list = ['als','coll_inf','coll_keyword','mlp_mf','ncf','svd']"
   ]
  },
  {
   "cell_type": "code",
   "execution_count": 3,
   "metadata": {},
   "outputs": [],
   "source": [
    "result_r2=[]\n",
    "result_mae=[]\n",
    "result_rmse=[]\n",
    "\n",
    "indexes=[]\n",
    "for model in model_list:\n",
    "    for metric in metric_list:\n",
    "        data = pd.read_csv(f'files/metric/eval_org/{model}_{metric}.csv',index_col=0)\n",
    "        indexes.append(f'{model}_{metric}')\n",
    "        \n",
    "        if metric == 'rmse':\n",
    "            result_rmse.append(data.iloc[0].tolist())\n",
    "        elif metric == 'mae':\n",
    "            result_mae.append(data.iloc[0].tolist())\n",
    "        elif metric == 'r2':\n",
    "            result_r2.append(data.iloc[0].tolist())\n",
    "        "
   ]
  },
  {
   "cell_type": "code",
   "execution_count": 4,
   "metadata": {},
   "outputs": [
    {
     "data": {
      "text/plain": [
       "[[0.0031303686036338, -0.0001658485491351, 0.0032146521487188],\n",
       " [-11.502786144462016, -21.926870533326134, -6.049776601300249],\n",
       " [-6.640889037420369, -10.62503431474194, -2.984106449336933],\n",
       " [0.0256276280346665, -0.0035921193305366, -0.0002509900871974],\n",
       " [0.0540909836455544, 0.0019293326389414, 0.0136947451626291],\n",
       " [0.2188181683361987, -0.222708220377932, 0.4124544061219681]]"
      ]
     },
     "execution_count": 4,
     "metadata": {},
     "output_type": "execute_result"
    }
   ],
   "source": [
    "result_r2"
   ]
  },
  {
   "cell_type": "code",
   "execution_count": 5,
   "metadata": {},
   "outputs": [],
   "source": [
    "df_r2 = pd.DataFrame(data=result_r2,index=model_list,columns=metrix_list)"
   ]
  },
  {
   "cell_type": "code",
   "execution_count": 6,
   "metadata": {},
   "outputs": [],
   "source": [
    "df_rmse = pd.DataFrame(data=result_rmse,index=model_list,columns=metrix_list)"
   ]
  },
  {
   "cell_type": "code",
   "execution_count": 7,
   "metadata": {},
   "outputs": [],
   "source": [
    "df_mae = pd.DataFrame(data=result_mae,index=model_list,columns=metrix_list)"
   ]
  },
  {
   "cell_type": "code",
   "execution_count": 8,
   "metadata": {},
   "outputs": [],
   "source": [
    "import matplotlib.pyplot as plt\n",
    "\n",
    "import seaborn as sns"
   ]
  },
  {
   "cell_type": "code",
   "execution_count": 9,
   "metadata": {},
   "outputs": [
    {
     "data": {
      "text/html": [
       "<div>\n",
       "<style scoped>\n",
       "    .dataframe tbody tr th:only-of-type {\n",
       "        vertical-align: middle;\n",
       "    }\n",
       "\n",
       "    .dataframe tbody tr th {\n",
       "        vertical-align: top;\n",
       "    }\n",
       "\n",
       "    .dataframe thead th {\n",
       "        text-align: right;\n",
       "    }\n",
       "</style>\n",
       "<table border=\"1\" class=\"dataframe\">\n",
       "  <thead>\n",
       "    <tr style=\"text-align: right;\">\n",
       "      <th></th>\n",
       "      <th>views</th>\n",
       "      <th>comments</th>\n",
       "      <th>likes</th>\n",
       "    </tr>\n",
       "  </thead>\n",
       "  <tbody>\n",
       "    <tr>\n",
       "      <th>als</th>\n",
       "      <td>350870.990841</td>\n",
       "      <td>649.212664</td>\n",
       "      <td>5843.097483</td>\n",
       "    </tr>\n",
       "    <tr>\n",
       "      <th>coll_inf</th>\n",
       "      <td>163562.374501</td>\n",
       "      <td>181.673257</td>\n",
       "      <td>2365.430065</td>\n",
       "    </tr>\n",
       "    <tr>\n",
       "      <th>coll_keyword</th>\n",
       "      <td>123214.018469</td>\n",
       "      <td>155.295116</td>\n",
       "      <td>1796.128856</td>\n",
       "    </tr>\n",
       "    <tr>\n",
       "      <th>mlp_mf</th>\n",
       "      <td>322236.291278</td>\n",
       "      <td>427.016298</td>\n",
       "      <td>6818.387006</td>\n",
       "    </tr>\n",
       "    <tr>\n",
       "      <th>ncf</th>\n",
       "      <td>270764.292281</td>\n",
       "      <td>211.386684</td>\n",
       "      <td>4975.570967</td>\n",
       "    </tr>\n",
       "    <tr>\n",
       "      <th>svd</th>\n",
       "      <td>144835.834556</td>\n",
       "      <td>134.907401</td>\n",
       "      <td>1926.453861</td>\n",
       "    </tr>\n",
       "  </tbody>\n",
       "</table>\n",
       "</div>"
      ],
      "text/plain": [
       "                      views    comments        likes\n",
       "als           350870.990841  649.212664  5843.097483\n",
       "coll_inf      163562.374501  181.673257  2365.430065\n",
       "coll_keyword  123214.018469  155.295116  1796.128856\n",
       "mlp_mf        322236.291278  427.016298  6818.387006\n",
       "ncf           270764.292281  211.386684  4975.570967\n",
       "svd           144835.834556  134.907401  1926.453861"
      ]
     },
     "execution_count": 9,
     "metadata": {},
     "output_type": "execute_result"
    }
   ],
   "source": [
    "df_mae"
   ]
  },
  {
   "cell_type": "code",
   "execution_count": 10,
   "metadata": {},
   "outputs": [
    {
     "data": {
      "text/html": [
       "<div>\n",
       "<style scoped>\n",
       "    .dataframe tbody tr th:only-of-type {\n",
       "        vertical-align: middle;\n",
       "    }\n",
       "\n",
       "    .dataframe tbody tr th {\n",
       "        vertical-align: top;\n",
       "    }\n",
       "\n",
       "    .dataframe thead th {\n",
       "        text-align: right;\n",
       "    }\n",
       "</style>\n",
       "<table border=\"1\" class=\"dataframe\">\n",
       "  <thead>\n",
       "    <tr style=\"text-align: right;\">\n",
       "      <th></th>\n",
       "      <th>views</th>\n",
       "      <th>comments</th>\n",
       "      <th>likes</th>\n",
       "    </tr>\n",
       "  </thead>\n",
       "  <tbody>\n",
       "    <tr>\n",
       "      <th>als</th>\n",
       "      <td>5.857968e+06</td>\n",
       "      <td>48913.400634</td>\n",
       "      <td>155562.391129</td>\n",
       "    </tr>\n",
       "    <tr>\n",
       "      <th>coll_inf</th>\n",
       "      <td>6.040435e+05</td>\n",
       "      <td>457.342235</td>\n",
       "      <td>5652.823350</td>\n",
       "    </tr>\n",
       "    <tr>\n",
       "      <th>coll_keyword</th>\n",
       "      <td>5.860596e+05</td>\n",
       "      <td>438.937187</td>\n",
       "      <td>5204.125168</td>\n",
       "    </tr>\n",
       "    <tr>\n",
       "      <th>mlp_mf</th>\n",
       "      <td>1.335142e+06</td>\n",
       "      <td>4435.660489</td>\n",
       "      <td>55869.482830</td>\n",
       "    </tr>\n",
       "    <tr>\n",
       "      <th>ncf</th>\n",
       "      <td>1.191986e+06</td>\n",
       "      <td>2587.570273</td>\n",
       "      <td>41039.225284</td>\n",
       "    </tr>\n",
       "    <tr>\n",
       "      <th>svd</th>\n",
       "      <td>5.637678e+05</td>\n",
       "      <td>404.718516</td>\n",
       "      <td>5935.869516</td>\n",
       "    </tr>\n",
       "  </tbody>\n",
       "</table>\n",
       "</div>"
      ],
      "text/plain": [
       "                     views      comments          likes\n",
       "als           5.857968e+06  48913.400634  155562.391129\n",
       "coll_inf      6.040435e+05    457.342235    5652.823350\n",
       "coll_keyword  5.860596e+05    438.937187    5204.125168\n",
       "mlp_mf        1.335142e+06   4435.660489   55869.482830\n",
       "ncf           1.191986e+06   2587.570273   41039.225284\n",
       "svd           5.637678e+05    404.718516    5935.869516"
      ]
     },
     "execution_count": 10,
     "metadata": {},
     "output_type": "execute_result"
    }
   ],
   "source": [
    "df_rmse"
   ]
  },
  {
   "cell_type": "code",
   "execution_count": 11,
   "metadata": {},
   "outputs": [
    {
     "data": {
      "text/html": [
       "<div>\n",
       "<style scoped>\n",
       "    .dataframe tbody tr th:only-of-type {\n",
       "        vertical-align: middle;\n",
       "    }\n",
       "\n",
       "    .dataframe tbody tr th {\n",
       "        vertical-align: top;\n",
       "    }\n",
       "\n",
       "    .dataframe thead th {\n",
       "        text-align: right;\n",
       "    }\n",
       "</style>\n",
       "<table border=\"1\" class=\"dataframe\">\n",
       "  <thead>\n",
       "    <tr style=\"text-align: right;\">\n",
       "      <th></th>\n",
       "      <th>views</th>\n",
       "      <th>comments</th>\n",
       "      <th>likes</th>\n",
       "    </tr>\n",
       "  </thead>\n",
       "  <tbody>\n",
       "    <tr>\n",
       "      <th>als</th>\n",
       "      <td>0.003130</td>\n",
       "      <td>-0.000166</td>\n",
       "      <td>0.003215</td>\n",
       "    </tr>\n",
       "    <tr>\n",
       "      <th>coll_inf</th>\n",
       "      <td>-11.502786</td>\n",
       "      <td>-21.926871</td>\n",
       "      <td>-6.049777</td>\n",
       "    </tr>\n",
       "    <tr>\n",
       "      <th>coll_keyword</th>\n",
       "      <td>-6.640889</td>\n",
       "      <td>-10.625034</td>\n",
       "      <td>-2.984106</td>\n",
       "    </tr>\n",
       "    <tr>\n",
       "      <th>mlp_mf</th>\n",
       "      <td>0.025628</td>\n",
       "      <td>-0.003592</td>\n",
       "      <td>-0.000251</td>\n",
       "    </tr>\n",
       "    <tr>\n",
       "      <th>ncf</th>\n",
       "      <td>0.054091</td>\n",
       "      <td>0.001929</td>\n",
       "      <td>0.013695</td>\n",
       "    </tr>\n",
       "    <tr>\n",
       "      <th>svd</th>\n",
       "      <td>0.218818</td>\n",
       "      <td>-0.222708</td>\n",
       "      <td>0.412454</td>\n",
       "    </tr>\n",
       "  </tbody>\n",
       "</table>\n",
       "</div>"
      ],
      "text/plain": [
       "                  views   comments     likes\n",
       "als            0.003130  -0.000166  0.003215\n",
       "coll_inf     -11.502786 -21.926871 -6.049777\n",
       "coll_keyword  -6.640889 -10.625034 -2.984106\n",
       "mlp_mf         0.025628  -0.003592 -0.000251\n",
       "ncf            0.054091   0.001929  0.013695\n",
       "svd            0.218818  -0.222708  0.412454"
      ]
     },
     "execution_count": 11,
     "metadata": {},
     "output_type": "execute_result"
    }
   ],
   "source": [
    "df_r2"
   ]
  },
  {
   "cell_type": "code",
   "execution_count": null,
   "metadata": {},
   "outputs": [],
   "source": [
    "ax = sns.heatmap(df_rmse['views'].to_frame())\n",
    "\n",
    "plt.title('Heatmap of Flight by seaborn', fontsize=20)\n",
    "\n",
    "plt.show() "
   ]
  },
  {
   "cell_type": "code",
   "execution_count": null,
   "metadata": {},
   "outputs": [],
   "source": []
  }
 ],
 "metadata": {
  "kernelspec": {
   "display_name": "Python 3",
   "language": "python",
   "name": "python3"
  },
  "language_info": {
   "codemirror_mode": {
    "name": "ipython",
    "version": 3
   },
   "file_extension": ".py",
   "mimetype": "text/x-python",
   "name": "python",
   "nbconvert_exporter": "python",
   "pygments_lexer": "ipython3",
   "version": "3.11.5"
  }
 },
 "nbformat": 4,
 "nbformat_minor": 2
}
